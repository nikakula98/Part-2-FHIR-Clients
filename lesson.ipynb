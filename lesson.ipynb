{
 "cells": [
  {
   "cell_type": "markdown",
   "source": [
    "# Introduction to FHIR Clients\n",
    "\n",
    "In this lesson, we will get hands-on experience with a FHIR client created and maintained by SMART. We will explore the different components of the client, focusing on the following major themes:\n",
    "\n",
    "1. **Connection**\n",
    "2. **Basic RESTful Methods**\n",
    "3. **Advanced RESTful Methods**\n",
    "4. **Resource Model**\n",
    "5. **Parsing and Serialization**\n",
    "6. **Search**\n",
    "\n",
    "As with learning any new library, you can read the technical requirements in the [SMART on FHIR Python Client Documentation](https://docs.smarthealthit.org/client-py/). \n",
    "\n",
    "Ensure you have the `fhirclient` library installed. This is automatically installed using the `requirements.txt`. In this lesson we will us OOP (Object-Oriented Programming) principles. When we make a solution `class`, the `__init__` method should a settings attribute that we set and make a FHIR Client instance as a other attribute."
   ],
   "metadata": {
    "collapsed": false
   },
   "id": "6fe0ac353fb00712"
  },
  {
   "cell_type": "markdown",
   "source": [
    "## Connection\n",
    "\n",
    "In this section, we will explore how to establish a connection using the FHIR Client."
   ],
   "metadata": {
    "collapsed": false
   },
   "id": "26116a4b1db5b48b"
  },
  {
   "cell_type": "markdown",
   "source": [
    "### Background\n",
    "\n",
    "To interact with a FHIR server, we need to establish a connection using the FHIR Client library. This involves configuring the client with the appropriate settings and verifying the server's readiness.\n",
    "\n",
    "\n",
    "### Instructions\n",
    "\n",
    "We will create a class called `MakeConnection` with two methods:\n",
    "\n",
    "1. `__init__`\n",
    "2. `run`\n",
    "\n",
    "- The `__init__` method will create a FHIRClient instance with the appropriate settings.\n",
    "- The `run` method will print the prepared and ready state of the server."
   ],
   "metadata": {
    "collapsed": false
   },
   "id": "e8d40f285e655599"
  },
  {
   "cell_type": "code",
   "id": "initial_id",
   "metadata": {
    "collapsed": true,
    "ExecuteTime": {
     "end_time": "2024-07-19T14:15:07.216919Z",
     "start_time": "2024-07-19T14:15:05.674525Z"
    }
   },
   "source": [
    "from fhirclient import client\n",
    "\n",
    "class MakeConnection:\n",
    "    \n",
    "    def __init__(self):\n",
    "        settings = {\n",
    "            'app_id': '',\n",
    "            'api_base': 'http://fhirserver.hl7fundamentals.org/fhir'\n",
    "        }\n",
    "        self.client = client.FHIRClient(settings=settings)\n",
    "    \n",
    "    def run(self):\n",
    "        print(f'Is the client ready to make calls? {self.client.prepare()}')\n",
    "        print(f'Is the server ready to accept calls? {self.client.server.ready}')\n",
    "        "
   ],
   "outputs": [],
   "execution_count": 4
  },
  {
   "metadata": {
    "ExecuteTime": {
     "end_time": "2024-07-19T14:15:10.320554Z",
     "start_time": "2024-07-19T14:15:10.312177Z"
    }
   },
   "cell_type": "code",
   "source": "mc = MakeConnection()",
   "id": "ad191c56db4f7231",
   "outputs": [],
   "execution_count": 5
  },
  {
   "metadata": {
    "ExecuteTime": {
     "end_time": "2024-07-19T14:15:11.984847Z",
     "start_time": "2024-07-19T14:15:10.919238Z"
    }
   },
   "cell_type": "code",
   "source": "mc.run()",
   "id": "215111cc1092bc51",
   "outputs": [
    {
     "name": "stdout",
     "output_type": "stream",
     "text": [
      "Is the client ready to make calls? True\n",
      "Is the server ready to accept calls? True\n"
     ]
    }
   ],
   "execution_count": 6
  },
  {
   "cell_type": "markdown",
   "source": [
    "## Reading resources\n",
    "\n",
    "### Background and Motivation\n",
    "\n",
    "In FHIR, reading resources is a fundamental operation for retrieving data from a FHIR server. There are multiple ways to read resources, depending on whether you need a specific version of the resource or are using a full URL. Understanding these methods is crucial for effective data retrieval in healthcare applications.\n",
    "\n",
    "### Objective\n",
    "\n",
    "The goal of this assignment is to modify an existing FHIR client to:\n",
    "1. Perform a direct read of a patient resource by its ID.\n",
    "2. Perform a URL-based read of a patient resource.\n",
    "\n",
    "### Instructions\n",
    "\n",
    "1. **Create class:**\n",
    "   - Define a class named `ReadPatient`.\n",
    "   - Initialize the class with the base URL of the FHIR server and set the FHIR client settings.\n",
    "\n",
    "2. **Direct Read Method:**\n",
    "   - Implement a method  `read_patient` with arguments: `patient_id` to read a patient resource by its ID using the FHIR client.\n",
    "\n",
    "3. **URL Read Method:**\n",
    "   - Implement a method `url_read_patient` with arguments: `full_url` to read a patient resource by its full URL using the FHIR client.\n"
   ],
   "metadata": {
    "collapsed": false
   },
   "id": "d87e347d3e654ae3"
  },
  {
   "cell_type": "code",
   "source": [
    "from fhirclient.models import patient\n",
    "\n",
    "class ReadPatient:\n",
    "    \n",
    "    def __init__(self):\n",
    "        settings = {\n",
    "            'app_id': '',\n",
    "            'api_base': 'http://fhirserver.hl7fundamentals.org/fhir'\n",
    "        }\n",
    "        self.client = client.FHIRClient(settings=settings)\n",
    "        \n",
    "    def read_patient(self, patient_id):\n",
    "        patient_data = patient.Patient.read(rem_id = patient_id,\n",
    "                             server = self.client.server)\n",
    "        print(patient_data.as_json())      \n",
    "    \n",
    "    def url_read_patient(self, full_url):\n",
    "        patient_url_data = patient.Patient.read_from(path=full_url, \n",
    "                                                     server=self.client.server)\n",
    "        print(patient_url_data.as_json())"
   ],
   "metadata": {
    "collapsed": false,
    "ExecuteTime": {
     "end_time": "2024-07-19T14:15:14.079672Z",
     "start_time": "2024-07-19T14:15:14.070049Z"
    }
   },
   "id": "72817a5368c7fa3a",
   "outputs": [],
   "execution_count": 7
  },
  {
   "metadata": {
    "ExecuteTime": {
     "end_time": "2024-07-19T14:15:15.169790Z",
     "start_time": "2024-07-19T14:15:15.153907Z"
    }
   },
   "cell_type": "code",
   "source": "rd = ReadPatient()",
   "id": "634800e69512599d",
   "outputs": [],
   "execution_count": 8
  },
  {
   "metadata": {
    "ExecuteTime": {
     "end_time": "2024-07-19T14:15:16.354465Z",
     "start_time": "2024-07-19T14:15:16.189236Z"
    }
   },
   "cell_type": "code",
   "source": "rd.read_patient('1')",
   "id": "c3d7c87bed8f28c0",
   "outputs": [
    {
     "name": "stdout",
     "output_type": "stream",
     "text": [
      "{'id': '1', 'meta': {'lastUpdated': '2024-06-18T01:26:30.310+00:00', 'source': '#JpBdC0t9a8ty0iA2', 'versionId': '117'}, 'text': {'div': '<div xmlns=\"http://www.w3.org/1999/xhtml\"><div class=\"hapiHeaderText\">Anton <b>SHAH </b></div><table class=\"hapiPropertyTable\"><tbody/></table></div>', 'status': 'generated'}, 'name': [{'family': 'Paleari', 'given': ['Federico'], 'text': 'Fede', 'use': 'official'}], 'resourceType': 'Patient'}\n"
     ]
    }
   ],
   "execution_count": 9
  },
  {
   "metadata": {
    "ExecuteTime": {
     "end_time": "2024-07-19T14:15:17.592839Z",
     "start_time": "2024-07-19T14:15:17.503683Z"
    }
   },
   "cell_type": "code",
   "source": "rd.url_read_patient('http://fhirserver.hl7fundamentals.org/fhir/Patient/1')",
   "id": "e60346d818962994",
   "outputs": [
    {
     "name": "stdout",
     "output_type": "stream",
     "text": [
      "{'id': '1', 'meta': {'lastUpdated': '2024-06-18T01:26:30.310+00:00', 'source': '#JpBdC0t9a8ty0iA2', 'versionId': '117'}, 'text': {'div': '<div xmlns=\"http://www.w3.org/1999/xhtml\"><div class=\"hapiHeaderText\">Anton <b>SHAH </b></div><table class=\"hapiPropertyTable\"><tbody/></table></div>', 'status': 'generated'}, 'name': [{'family': 'Paleari', 'given': ['Federico'], 'text': 'Fede', 'use': 'official'}], 'resourceType': 'Patient'}\n"
     ]
    }
   ],
   "execution_count": 10
  },
  {
   "cell_type": "markdown",
   "source": [
    "# Basic RESTful Methods\n",
    "Right now we will cover the traditional RESTful methods (CRUD): create, read, update and delete resources, and in the last steps of this subunit we will cover searching.\n",
    "\n",
    "Always remember to import the required classes from the HAPI model."
   ],
   "metadata": {
    "collapsed": false
   },
   "id": "8fda5260c27c254a"
  },
  {
   "cell_type": "markdown",
   "source": [
    "## Populating a Patient Resource\n",
    "\n",
    "### Background and Motivation\n",
    "\n",
    "Understanding how to create resources programmatically allows you to populate the server with necessary data efficiently. This exercise focuses on creating a new Patient resource, which is a fundamental entity in healthcare applications.\n",
    "\n",
    "### Objective\n",
    "\n",
    "The goal of this assignment is to create a new Patient resource using the FHIR client in Python. You will:\n",
    "1. Create and populate a Patient resource instance.\n",
    "2. Invoke the create method on the FHIR server to store the resource.\n",
    "\n",
    "### Instructions\n",
    "\n",
    "1. **Create the Skeleton Class:**\n",
    "   - Define a class named `CreateNewPatient`.\n",
    "   - Initialize the class with the base URL of the FHIR server and set the FHIR client settings.\n",
    "\n",
    "2. **Create and Populate the Patient Resource:**\n",
    "   - Implement a method `create_patient` with arguments: `None` to create and populate a Patient resource with the given data."
   ],
   "metadata": {
    "collapsed": false
   },
   "id": "f4cf553a2d965251"
  },
  {
   "cell_type": "code",
   "source": [
    "from fhirclient.models import humanname, identifier, fhirdate\n",
    "\n",
    "class CreateNewPatient:\n",
    "    \n",
    "    def __init__(self):\n",
    "        settings = {\n",
    "            'app_id': '',\n",
    "            'api_base': 'http://fhirserver.hl7fundamentals.org/fhir'\n",
    "        }\n",
    "        self.client = client.FHIRClient(settings=settings)\n",
    "    \n",
    "    def create_patient(self):\n",
    "        new_patient = patient.Patient()\n",
    "        new_patient.active = True\n",
    "        new_patient.name = [humanname.HumanName({\n",
    "            'family': 'Johnson',\n",
    "            'given': ['Calvin']\n",
    "        })]\n",
    "        new_patient.identifier = [identifier.Identifier({\n",
    "            'system': 'http://newpatient/mrn',\n",
    "            'value': '123456789'\n",
    "        })]\n",
    "        new_patient.gender = 'male'\n",
    "        new_patient.birthDate = fhirdate.FHIRDate('1970-01-01')\n",
    "        response = new_patient.create(server = self.client.server)\n",
    "        print(response)"
   ],
   "metadata": {
    "collapsed": false,
    "ExecuteTime": {
     "end_time": "2024-07-19T14:15:20.369326Z",
     "start_time": "2024-07-19T14:15:20.357837Z"
    }
   },
   "id": "424f898fc16a9f58",
   "outputs": [],
   "execution_count": 11
  },
  {
   "metadata": {
    "ExecuteTime": {
     "end_time": "2024-07-19T14:15:21.871318Z",
     "start_time": "2024-07-19T14:15:21.865986Z"
    }
   },
   "cell_type": "code",
   "source": "cnp = CreateNewPatient()",
   "id": "47d9f2bce740dd77",
   "outputs": [],
   "execution_count": 12
  },
  {
   "metadata": {
    "ExecuteTime": {
     "end_time": "2024-07-19T14:15:22.683745Z",
     "start_time": "2024-07-19T14:15:22.352231Z"
    }
   },
   "cell_type": "code",
   "source": "cnp.create_patient()",
   "id": "e4b459085cda9808",
   "outputs": [
    {
     "name": "stdout",
     "output_type": "stream",
     "text": [
      "{'resourceType': 'Patient', 'id': '142235', 'meta': {'versionId': '1', 'lastUpdated': '2024-07-19T14:15:22.951+00:00'}, 'text': {'status': 'generated', 'div': '<div xmlns=\"http://www.w3.org/1999/xhtml\"><div class=\"hapiHeaderText\">Calvin <b>JOHNSON </b></div><table class=\"hapiPropertyTable\"><tbody><tr><td>Identifier</td><td>123456789</td></tr><tr><td>Date of birth</td><td><span>01 January 1970</span></td></tr></tbody></table></div>'}, 'identifier': [{'system': 'http://newpatient/mrn', 'value': '123456789'}], 'active': True, 'name': [{'family': 'Johnson', 'given': ['Calvin']}], 'gender': 'male', 'birthDate': '1970-01-01'}\n"
     ]
    }
   ],
   "execution_count": 13
  },
  {
   "cell_type": "markdown",
   "source": [
    "## Update a Resource\n",
    "\n",
    "### Background and Motivation\n",
    "\n",
    "Updating resources in FHIR is an essential operation for keeping healthcare data accurate and up-to-date. This involves modifying existing resource instances with new or corrected information. Understanding how to update resources programmatically allows you to maintain data integrity efficiently in healthcare applications.\n",
    "\n",
    "### Objective\n",
    "\n",
    "The goal of this assignment is to update an existing Patient resource using the FHIR client in Python. You will:\n",
    "1. Load the existing Patient resource from the server.\n",
    "2. Modify the Patient resource with new information.\n",
    "3. Invoke the update method on the FHIR server.\n",
    "4. Process the server's response to confirm the resource was updated successfully.\n",
    "\n",
    "### Instructions\n",
    "\n",
    "1. **Create the Skeleton Class:**\n",
    "   - Define a class named `UpdatePatientResource`.\n",
    "   - Initialize the class with the base URL of the FHIR server and set the FHIR client settings.\n",
    "\n",
    "2. **Load and Modify the Patient Resource:**\n",
    "   - Implement a method `update_patient` that takes arguments: `patient_id` to load the existing Patient resource and modify it with the new data.\n",
    "\n",
    "3. **Invoke the Update Method:**\n",
    "   - Implement a method to send the updated Patient resource to the FHIR server and handle the response.\n"
   ],
   "metadata": {
    "collapsed": false
   },
   "id": "2fa76f03bdd73760"
  },
  {
   "cell_type": "code",
   "source": [
    "from fhirclient.models.patient import Patient, humanname, identifier, contactpoint\n",
    "from fhirclient.models import contactpoint as cp\n",
    "from fhirclient.models import address as addr\n",
    "from fhirclient.models.fhirdate import FHIRDate\n",
    "\n",
    "class UpdatePatientResource:\n",
    "    \n",
    "    def __init__(self):\n",
    "        settings = {\n",
    "            'app_id': '',\n",
    "            'api_base': 'http://fhirserver.hl7fundamentals.org/fhir'\n",
    "        }\n",
    "        self.client = client.FHIRClient(settings=settings)\n",
    "    \n",
    "    def update_patient(self, patient_id):\n",
    "        #Step 1: load the existing patient resource from the server\n",
    "        update_patient = patient.Patient.read(rem_id = patient_id,\n",
    "                                       server = self.client.server)\n",
    "        \n",
    "        #Step 2: Modify the patient resource instance\n",
    "        address = addr.Address()\n",
    "        address.line = ['2300 Bashful Drive']\n",
    "        address.city = 'Detroit'\n",
    "        address.state = 'Michigan'\n",
    "        address.postalCode = '32505'\n",
    "        address.country = 'United States of America'\n",
    "        update_patient.address = [address]\n",
    "        \n",
    "        phone = cp.ContactPoint()\n",
    "        phone.system = 'phone'\n",
    "        phone.value = '630-505-9825'\n",
    "        update_patient.telecom = [phone]\n",
    "        response = update_patient.update(server = self.client.server)\n",
    "        print(response)"
   ],
   "metadata": {
    "collapsed": false,
    "ExecuteTime": {
     "end_time": "2024-07-19T14:15:24.302675Z",
     "start_time": "2024-07-19T14:15:24.286897Z"
    }
   },
   "id": "98f1336a2214087",
   "outputs": [],
   "execution_count": 14
  },
  {
   "metadata": {
    "ExecuteTime": {
     "end_time": "2024-07-19T14:15:25.892045Z",
     "start_time": "2024-07-19T14:15:25.887105Z"
    }
   },
   "cell_type": "code",
   "source": "upr = UpdatePatientResource()",
   "id": "6ba803d6472b4d79",
   "outputs": [],
   "execution_count": 15
  },
  {
   "metadata": {
    "ExecuteTime": {
     "end_time": "2024-07-19T14:15:26.925538Z",
     "start_time": "2024-07-19T14:15:26.669857Z"
    }
   },
   "cell_type": "code",
   "source": "upr.update_patient('142093')",
   "id": "af6fe3456cbe2b54",
   "outputs": [
    {
     "name": "stdout",
     "output_type": "stream",
     "text": [
      "{'resourceType': 'Patient', 'id': '142093', 'meta': {'versionId': '2', 'lastUpdated': '2024-07-16T16:00:14.083+00:00', 'source': '#HpomtZz9PYXN9hnT'}, 'text': {'status': 'generated', 'div': '<div xmlns=\"http://www.w3.org/1999/xhtml\"><div class=\"hapiHeaderText\">Calvin <b>JOHNSON </b></div><table class=\"hapiPropertyTable\"><tbody><tr><td>Identifier</td><td>123456789</td></tr><tr><td>Date of birth</td><td><span>01 January 1970</span></td></tr></tbody></table></div>'}, 'identifier': [{'system': 'http://newpatient/mrn', 'value': '123456789'}], 'active': True, 'name': [{'family': 'Johnson', 'given': ['Calvin']}], 'telecom': [{'system': 'phone', 'value': '630-505-9825'}], 'gender': 'male', 'birthDate': '1970-01-01', 'address': [{'line': ['2300 Bashful Drive'], 'city': 'Detroit', 'state': 'Michigan', 'postalCode': '32505', 'country': 'United States of America'}]}\n"
     ]
    }
   ],
   "execution_count": 16
  },
  {
   "cell_type": "markdown",
   "source": [
    "## Delete a Resource\n",
    "\n",
    "### Background and Motivation\n",
    "\n",
    "Although deletion of resources in FHIR is rarely used, it is sometimes necessary to remove obsolete or incorrect data from the server. Understanding how to delete resources programmatically allows you to manage data more effectively, ensuring that only relevant and accurate information is retained.\n",
    "\n",
    "### Objective\n",
    "\n",
    "The goal of this assignment is to delete an existing Patient resource using the FHIR client in Python. You will:\n",
    "1. Invoke the delete method on the FHIR server to remove the resource.\n",
    "2. Process the server's response to confirm the resource was deleted successfully.\n",
    "\n",
    "### Instructions\n",
    "\n",
    "1. **Create the Skeleton Class:**\n",
    "   - Define a class named `DeletePatientResource`.\n",
    "   - Initialize the class with the base URL of the FHIR server and set the FHIR client settings.\n",
    "\n",
    "2. **Invoke the Delete Method:**\n",
    "   - Implement a method to delete the specified Patient resource from the FHIR server.\n",
    "\n",
    "3. **Process the Server's Response:**\n",
    "   - Implement a method to handle and print the server's response after the deletion request."
   ],
   "metadata": {
    "collapsed": false
   },
   "id": "f0daaed10e913f9f"
  },
  {
   "cell_type": "code",
   "source": [
    "class DeletePatientResource:\n",
    "    \n",
    "    def __init__(self):\n",
    "        settings = {\n",
    "            'app_id': '',\n",
    "            'api_base': 'http://fhirserver.hl7fundamentals.org/fhir'\n",
    "        }\n",
    "        self.client = client.FHIRClient(settings=settings)\n",
    "    \n",
    "    def delete_patient(self, patient_id):\n",
    "        delete_patient = patient.Patient.read(rem_id = patient_id,\n",
    "                                              server=self.client.server)\n",
    "        response = delete_patient.delete(server = self.client.server)\n",
    "        print(response)"
   ],
   "metadata": {
    "collapsed": false,
    "ExecuteTime": {
     "end_time": "2024-07-19T14:22:34.189828Z",
     "start_time": "2024-07-19T14:22:34.177707Z"
    }
   },
   "id": "22f816133c6c439f",
   "outputs": [],
   "execution_count": 18
  },
  {
   "metadata": {
    "ExecuteTime": {
     "end_time": "2024-07-19T14:22:35.465127Z",
     "start_time": "2024-07-19T14:22:35.454506Z"
    }
   },
   "cell_type": "code",
   "source": "dpr = DeletePatientResource()",
   "id": "8c6128906c2f9ca2",
   "outputs": [],
   "execution_count": 19
  },
  {
   "metadata": {
    "ExecuteTime": {
     "end_time": "2024-07-19T14:22:37.693179Z",
     "start_time": "2024-07-19T14:22:37.393497Z"
    }
   },
   "cell_type": "code",
   "source": "dpr.delete_patient('142093')",
   "id": "8407793dd99c9bde",
   "outputs": [
    {
     "name": "stdout",
     "output_type": "stream",
     "text": [
      "{'resourceType': 'OperationOutcome', 'text': {'status': 'generated', 'div': '<div xmlns=\"http://www.w3.org/1999/xhtml\"><h1>Operation Outcome</h1><table border=\"0\"><tr><td style=\"font-weight: bold;\">INFORMATION</td><td>[]</td><td><pre>Successfully deleted 1 resource(s) in 17ms</pre></td>\\n\\t\\t\\t</tr>\\n\\t\\t</table>\\n\\t</div>'}, 'issue': [{'severity': 'information', 'code': 'informational', 'diagnostics': 'Successfully deleted 1 resource(s) in 17ms'}]}\n"
     ]
    }
   ],
   "execution_count": 20
  },
  {
   "cell_type": "markdown",
   "source": [
    "# Advance RESTful Methods\n",
    "We will explore some of the advanced methods in FHIR using HAPI FHIR.\n",
    "\n",
    "Advanced methods include:\n",
    "\n",
    "getting the server conformance statement\n",
    "invoking special methods defined for specific resources, like $everything Patient, and\n",
    "the FHIR terminology methods – special methods for use when working with a FHIR terminology server, related to ValueSets and CodeSystems"
   ],
   "metadata": {
    "collapsed": false
   },
   "id": "a33e19464ae94408"
  },
  {
   "cell_type": "markdown",
   "source": [
    "##  Conformance\n",
    "\n",
    "### Background and Motivation\n",
    "\n",
    "The capability statement (or conformance statement) in FHIR provides a detailed description of the functionalities that a FHIR server supports. It is crucial for understanding the capabilities and constraints of a FHIR server before interacting with it.\n",
    "\n",
    "### Objective\n",
    "\n",
    "The goal of this assignment is to obtain the capability statement of a FHIR server using the FHIR client in Python. You will:\n",
    "1. Invoke the method to obtain the capability statement from the server.\n",
    "2. Process and print the capability statement.\n",
    "\n",
    "### Instructions\n",
    "\n",
    "1. **Create the Skeleton Class:**\n",
    "   - Define a class named `GetCapabilityStatement`.\n",
    "   - Initialize the class with the base URL of the FHIR server and set the FHIR client settings.\n",
    "\n",
    "2. **Invoke the Capabilities Method:**\n",
    "   - Implement a method to obtain the capability statement from the FHIR server.\n",
    "\n",
    "3. **Process the Server's Response:**\n",
    "   - Implement a method to handle and print the server's response after the capability statement request.\n"
   ],
   "metadata": {
    "collapsed": false
   },
   "id": "845777c7244a5838"
  },
  {
   "cell_type": "code",
   "source": [
    "class GetCapabilityStatement:\n",
    "    \n",
    "    def __init__(self):\n",
    "        settings = {\n",
    "            'app_id': '',\n",
    "            'api_base': 'http://fhirserver.hl7fundamentals.org/fhir'\n",
    "        }\n",
    "        self.client = client.FHIRClient(settings=settings)\n",
    "    \n",
    "    def get_capability_statement(self):\n",
    "        response = self.client.server.get_capability()\n",
    "        print(response)"
   ],
   "metadata": {
    "collapsed": false,
    "ExecuteTime": {
     "end_time": "2024-07-19T14:33:28.142156Z",
     "start_time": "2024-07-19T14:33:28.127941Z"
    }
   },
   "id": "9e91c014a03eca2e",
   "outputs": [],
   "execution_count": 21
  },
  {
   "metadata": {
    "ExecuteTime": {
     "end_time": "2024-07-19T14:33:28.720436Z",
     "start_time": "2024-07-19T14:33:28.706972Z"
    }
   },
   "cell_type": "code",
   "source": "gcs = GetCapabilityStatement()",
   "id": "6fa2dffa3379dbd4",
   "outputs": [],
   "execution_count": 22
  },
  {
   "metadata": {
    "ExecuteTime": {
     "end_time": "2024-07-19T14:33:31.342417Z",
     "start_time": "2024-07-19T14:33:29.604052Z"
    }
   },
   "cell_type": "code",
   "source": "gcs.get_capability_statement()",
   "id": "1d5dbb5393a6ee90",
   "outputs": [
    {
     "name": "stdout",
     "output_type": "stream",
     "text": [
      "None\n"
     ]
    }
   ],
   "execution_count": 23
  },
  {
   "cell_type": "markdown",
   "source": [
    "## Extended Operations\n",
    "\n",
    "### Background and Motivation\n",
    "\n",
    "Extended operations in FHIR provide powerful ways to interact with resources beyond the standard CRUD (Create, Read, Update, Delete) operations. The `everything` operation is particularly useful as it allows you to retrieve all related resources for a specific patient within a specified timeframe.\n",
    "\n",
    "### Objective\n",
    "\n",
    "The goal of this assignment is to use the `everything` operation to obtain all resources associated with a specific patient from December 2019 to March 2020.\n",
    "\n",
    "### Instructions\n",
    "\n",
    "1. **Create the Skeleton Class:**\n",
    "   - Define a class named `GetPatientEverything`.\n",
    "   - Initialize the class with the base URL of the FHIR server and set the FHIR client settings.\n",
    "\n",
    "2. **Set Up the Parameters:**\n",
    "   - Implement a method to set up the parameters for the operation.\n",
    "\n",
    "3. **Invoke the Operation:**\n",
    "   - Implement a method to invoke the `$everything` operation on the specified patient resource.\n",
    "\n",
    "4. **Process the Server's Response:**\n",
    "   - Implement a method to handle and print the server's response after the operation request.\n"
   ],
   "metadata": {
    "collapsed": false
   },
   "id": "440710a5b6e10d90"
  },
  {
   "cell_type": "code",
   "source": [
    "from fhirclient.models.parameters import Parameters,ParametersParameter\n",
    "\n",
    "class GetPatientEverything:\n",
    "    \n",
    "    def __init__(self):\n",
    "        settings = {\n",
    "            'app_id': '',\n",
    "            'api_base': 'http://fhirserver.hl7fundamentals.org/fhir'\n",
    "        }\n",
    "        self.client = client.FHIRClient(settings=settings)\n",
    "        \n",
    "    def get_patient_everything(self, patient_id, start_date, end_date):\n",
    "        #Step 1: set up parameters\n",
    "        in_params = Parameters()\n",
    "        in_params.parameter = []\n",
    "            \n",
    "        start_param = ParametersParameter()\n",
    "        start_param.name = 'start'\n",
    "        start_param.value = FHIRDate(start_date)\n",
    "        in_params.parameter.append(start_param)\n",
    "            \n",
    "        end_param = ParametersParameter()\n",
    "        end_param.name = 'end'\n",
    "        end_param.value = FHIRDate(end_date)\n",
    "        in_params.parameter.append(end_param)\n",
    "            \n",
    "        #Convert Parameters object to JSON\n",
    "        in_params_json = in_params.as_json()\n",
    "            \n",
    "        #Step 2: Invoke the $everything operation on the server\n",
    "        operation_name = '$everything'\n",
    "        path = f'Patient/{patient_id}/{operation_name}'\n",
    "        response = self.client.server.post_json(path, in_params_json)\n",
    "        print(response.json())"
   ],
   "metadata": {
    "collapsed": false,
    "ExecuteTime": {
     "end_time": "2024-07-19T14:56:38.665273Z",
     "start_time": "2024-07-19T14:56:38.640992Z"
    }
   },
   "id": "c0ffb8af1b8fb09b",
   "outputs": [],
   "execution_count": 46
  },
  {
   "metadata": {
    "ExecuteTime": {
     "end_time": "2024-07-19T14:56:39.151001Z",
     "start_time": "2024-07-19T14:56:39.141865Z"
    }
   },
   "cell_type": "code",
   "source": "gpe = GetPatientEverything()",
   "id": "4c1b0a516afd21c1",
   "outputs": [],
   "execution_count": 47
  },
  {
   "metadata": {
    "ExecuteTime": {
     "end_time": "2024-07-19T14:56:39.958926Z",
     "start_time": "2024-07-19T14:56:39.640897Z"
    }
   },
   "cell_type": "code",
   "source": "gpe.get_patient_everything('1', '2019-12-01', '2020-03-30')",
   "id": "991acd1dedaef4be",
   "outputs": [
    {
     "name": "stdout",
     "output_type": "stream",
     "text": [
      "{'resourceType': 'Bundle', 'id': '5e8ef47a-e8e5-4df3-bf36-ad2995f3a739', 'meta': {'lastUpdated': '2024-07-19T14:56:40.266+00:00'}, 'type': 'searchset', 'total': 23, 'link': [{'relation': 'self', 'url': 'http://fhirserver.hl7fundamentals.org/fhir/Patient/1/$everything'}, {'relation': 'next', 'url': 'http://fhirserver.hl7fundamentals.org/fhir?_getpages=5e8ef47a-e8e5-4df3-bf36-ad2995f3a739&_getpagesoffset=20&_count=20&_pretty=true&_bundletype=searchset'}], 'entry': [{'fullUrl': 'http://fhirserver.hl7fundamentals.org/fhir/Patient/1', 'resource': {'resourceType': 'Patient', 'id': '1', 'meta': {'versionId': '117', 'lastUpdated': '2024-06-18T01:26:30.310+00:00', 'source': '#JpBdC0t9a8ty0iA2'}, 'text': {'status': 'generated', 'div': '<div xmlns=\"http://www.w3.org/1999/xhtml\"><div class=\"hapiHeaderText\">Anton <b>SHAH </b></div><table class=\"hapiPropertyTable\"><tbody/></table></div>'}, 'name': [{'use': 'official', 'text': 'Fede', 'family': 'Paleari', 'given': ['Federico']}]}, 'search': {'mode': 'match'}}, {'fullUrl': 'http://fhirserver.hl7fundamentals.org/fhir/Device/2818', 'resource': {'resourceType': 'Device', 'id': '2818', 'meta': {'versionId': '4', 'lastUpdated': '2024-02-22T17:00:18.981+00:00', 'source': '#Aj7yzPOSpdUktWgE'}, 'text': {'status': 'generated', 'div': '<div xmlns=\"http://www.w3.org/1999/xhtml\"> UW Device 1 </div>'}, 'identifier': [{'system': 'www.uwearme.com/dev', 'value': 'id'}], 'udiCarrier': [{'deviceIdentifier': 'deviceIdentifier-test', 'carrierHRF': 'carrierHRF-test'}], 'status': 'active', 'distinctIdentifier': 'distinct', 'manufactureDate': '2018-01-01', 'expirationDate': '2020-10-10', 'lotNumber': 'lot22222', 'serialNumber': 'serial333333', 'modelNumber': 'model-u888800-1', 'type': {'coding': [{'system': ' http://snomed.info/sct', 'code': '33894003', 'display': 'Experimental Device'}]}, 'patient': {'reference': 'Patient/1'}, 'owner': {'reference': 'Organization/851'}}, 'search': {'mode': 'match'}}, {'fullUrl': 'http://fhirserver.hl7fundamentals.org/fhir/Device/2823', 'resource': {'resourceType': 'Device', 'id': '2823', 'meta': {'versionId': '1', 'lastUpdated': '2023-11-01T01:37:11.742+00:00', 'source': '#gVq8dghxE2eGb3Eu'}, 'text': {'status': 'generated', 'div': '<div xmlns=\"http://www.w3.org/1999/xhtml\">\\n\\t\\t\\t\\t\\t\\tUW Device 1\\n\\t\\t\\t\\t\\t</div>'}, 'identifier': [{'system': 'www.uwearme.com/dev', 'value': 'id'}], 'expirationDate': '2020-10-10', 'lotNumber': '22222', 'modelNumber': 'u888800-1', 'type': {'coding': [{'system': ' http://snomed.info/sct', 'code': '33894003', 'display': 'Experimental Device'}]}, 'patient': {'reference': 'Patient/1'}, 'owner': {'reference': 'Organization/851'}}, 'search': {'mode': 'match'}}, {'fullUrl': 'http://fhirserver.hl7fundamentals.org/fhir/Device/2829', 'resource': {'resourceType': 'Device', 'id': '2829', 'meta': {'versionId': '1', 'lastUpdated': '2023-11-01T01:49:23.903+00:00', 'source': '#zbjSir5LWKCT5BAU'}, 'text': {'status': 'generated', 'div': '<div xmlns=\"http://www.w3.org/1999/xhtml\">\\n\\t\\t\\t\\t\\t\\tUW Device 1\\n\\t\\t\\t\\t\\t</div>'}, 'identifier': [{'system': 'www.uwearme.com/dev', 'value': 'id'}], 'expirationDate': '2020-10-10', 'lotNumber': '22222', 'modelNumber': 'u888800-1', 'type': {'coding': [{'system': ' http://snomed.info/sct', 'code': '33894003', 'display': 'Experimental Device'}]}, 'patient': {'reference': 'Patient/1'}, 'owner': {'reference': 'Organization/851'}}, 'search': {'mode': 'match'}}, {'fullUrl': 'http://fhirserver.hl7fundamentals.org/fhir/Device/2834', 'resource': {'resourceType': 'Device', 'id': '2834', 'meta': {'versionId': '1', 'lastUpdated': '2023-11-01T01:49:24.034+00:00', 'source': '#WePnBwYLp1I9jgnF'}, 'text': {'status': 'generated', 'div': '<div xmlns=\"http://www.w3.org/1999/xhtml\">\\n\\t\\t\\t\\t\\t\\tUW Device 1\\n\\t\\t\\t\\t\\t</div>'}, 'identifier': [{'system': 'www.uwearme.com/dev', 'value': 'id'}], 'expirationDate': '2020-10-10', 'lotNumber': '22222', 'modelNumber': 'u888800-1', 'type': {'coding': [{'system': ' http://snomed.info/sct', 'code': '33894003', 'display': 'Experimental Device'}]}, 'patient': {'reference': 'Patient/1'}, 'owner': {'reference': 'Organization/851'}}, 'search': {'mode': 'match'}}, {'fullUrl': 'http://fhirserver.hl7fundamentals.org/fhir/Device/2839', 'resource': {'resourceType': 'Device', 'id': '2839', 'meta': {'versionId': '1', 'lastUpdated': '2023-11-01T01:53:10.121+00:00', 'source': '#Fk3vMgux7T4qECER'}, 'text': {'status': 'generated', 'div': '<div xmlns=\"http://www.w3.org/1999/xhtml\">\\n\\t\\t\\t\\t\\t\\tUW Device 1\\n\\t\\t\\t\\t\\t</div>'}, 'identifier': [{'system': 'www.uwearme.com/dev', 'value': 'id'}], 'expirationDate': '2020-10-10', 'lotNumber': '22222', 'modelNumber': 'u888800-1', 'type': {'coding': [{'system': ' http://snomed.info/sct', 'code': '33894003', 'display': 'Experimental Device'}]}, 'patient': {'reference': 'Patient/1'}, 'owner': {'reference': 'Organization/851'}}, 'search': {'mode': 'match'}}, {'fullUrl': 'http://fhirserver.hl7fundamentals.org/fhir/Device/2844', 'resource': {'resourceType': 'Device', 'id': '2844', 'meta': {'versionId': '1', 'lastUpdated': '2023-11-01T01:53:10.225+00:00', 'source': '#muSzKVuM3d2sh7t5'}, 'text': {'status': 'generated', 'div': '<div xmlns=\"http://www.w3.org/1999/xhtml\">\\n\\t\\t\\t\\t\\t\\tUW Device 1\\n\\t\\t\\t\\t\\t</div>'}, 'identifier': [{'system': 'www.uwearme.com/dev', 'value': 'id'}], 'expirationDate': '2020-10-10', 'lotNumber': '22222', 'modelNumber': 'u888800-1', 'type': {'coding': [{'system': ' http://snomed.info/sct', 'code': '33894003', 'display': 'Experimental Device'}]}, 'patient': {'reference': 'Patient/1'}, 'owner': {'reference': 'Organization/851'}}, 'search': {'mode': 'match'}}, {'fullUrl': 'http://fhirserver.hl7fundamentals.org/fhir/Device/2849', 'resource': {'resourceType': 'Device', 'id': '2849', 'meta': {'versionId': '1', 'lastUpdated': '2023-11-01T01:54:17.347+00:00', 'source': '#XkzPFIaAAhlBPkML'}, 'text': {'status': 'generated', 'div': '<div xmlns=\"http://www.w3.org/1999/xhtml\">\\n\\t\\t\\t\\t\\t\\tUW Device 1\\n\\t\\t\\t\\t\\t</div>'}, 'identifier': [{'system': 'www.uwearme.com/dev', 'value': 'id'}], 'expirationDate': '2020-10-10', 'lotNumber': '22222', 'modelNumber': 'u888800-1', 'type': {'coding': [{'system': ' http://snomed.info/sct', 'code': '33894003', 'display': 'Experimental Device'}]}, 'patient': {'reference': 'Patient/1'}, 'owner': {'reference': 'Organization/851'}}, 'search': {'mode': 'match'}}, {'fullUrl': 'http://fhirserver.hl7fundamentals.org/fhir/Device/2854', 'resource': {'resourceType': 'Device', 'id': '2854', 'meta': {'versionId': '1', 'lastUpdated': '2023-11-01T01:54:17.474+00:00', 'source': '#RnH8xpflRVT6Pkaw'}, 'text': {'status': 'generated', 'div': '<div xmlns=\"http://www.w3.org/1999/xhtml\">\\n\\t\\t\\t\\t\\t\\tUW Device 1\\n\\t\\t\\t\\t\\t</div>'}, 'identifier': [{'system': 'www.uwearme.com/dev', 'value': 'id'}], 'expirationDate': '2020-10-10', 'lotNumber': '22222', 'modelNumber': 'u888800-1', 'type': {'coding': [{'system': ' http://snomed.info/sct', 'code': '33894003', 'display': 'Experimental Device'}]}, 'patient': {'reference': 'Patient/1'}, 'owner': {'reference': 'Organization/851'}}, 'search': {'mode': 'match'}}, {'fullUrl': 'http://fhirserver.hl7fundamentals.org/fhir/Device/2859', 'resource': {'resourceType': 'Device', 'id': '2859', 'meta': {'versionId': '1', 'lastUpdated': '2023-11-01T01:55:14.944+00:00', 'source': '#D5p6ifiMgT8q0FOY'}, 'text': {'status': 'generated', 'div': '<div xmlns=\"http://www.w3.org/1999/xhtml\">\\n\\t\\t\\t\\t\\t\\tUW Device 1\\n\\t\\t\\t\\t\\t</div>'}, 'identifier': [{'system': 'www.uwearme.com/dev', 'value': 'id'}], 'expirationDate': '2020-10-10', 'lotNumber': '22222', 'modelNumber': 'u888800-1', 'type': {'coding': [{'system': ' http://snomed.info/sct', 'code': '33894003', 'display': 'Experimental Device'}]}, 'patient': {'reference': 'Patient/1'}, 'owner': {'reference': 'Organization/851'}}, 'search': {'mode': 'match'}}, {'fullUrl': 'http://fhirserver.hl7fundamentals.org/fhir/Device/2864', 'resource': {'resourceType': 'Device', 'id': '2864', 'meta': {'versionId': '1', 'lastUpdated': '2023-11-01T01:55:15.073+00:00', 'source': '#wDwkwx7pQkQtcAwJ'}, 'text': {'status': 'generated', 'div': '<div xmlns=\"http://www.w3.org/1999/xhtml\">\\n\\t\\t\\t\\t\\t\\tUW Device 1\\n\\t\\t\\t\\t\\t</div>'}, 'identifier': [{'system': 'www.uwearme.com/dev', 'value': 'id'}], 'expirationDate': '2020-10-10', 'lotNumber': '22222', 'modelNumber': 'u888800-1', 'type': {'coding': [{'system': ' http://snomed.info/sct', 'code': '33894003', 'display': 'Experimental Device'}]}, 'patient': {'reference': 'Patient/1'}, 'owner': {'reference': 'Organization/851'}}, 'search': {'mode': 'match'}}, {'fullUrl': 'http://fhirserver.hl7fundamentals.org/fhir/Device/2869', 'resource': {'resourceType': 'Device', 'id': '2869', 'meta': {'versionId': '1', 'lastUpdated': '2023-11-01T02:00:07.547+00:00', 'source': '#NlJ8RAah6lG255us'}, 'text': {'status': 'generated', 'div': '<div xmlns=\"http://www.w3.org/1999/xhtml\">\\n\\t\\t\\t\\t\\t\\tUW Device 1\\n\\t\\t\\t\\t\\t</div>'}, 'identifier': [{'system': 'www.uwearme.com/dev', 'value': 'id'}], 'expirationDate': '2020-10-10', 'lotNumber': '22222', 'modelNumber': 'u888800-1', 'type': {'coding': [{'system': ' http://snomed.info/sct', 'code': '33894003', 'display': 'Experimental Device'}]}, 'patient': {'reference': 'Patient/1'}, 'owner': {'reference': 'Organization/851'}}, 'search': {'mode': 'match'}}, {'fullUrl': 'http://fhirserver.hl7fundamentals.org/fhir/Device/2874', 'resource': {'resourceType': 'Device', 'id': '2874', 'meta': {'versionId': '1', 'lastUpdated': '2023-11-01T02:00:07.688+00:00', 'source': '#BqXHk4lQuceW9ujM'}, 'text': {'status': 'generated', 'div': '<div xmlns=\"http://www.w3.org/1999/xhtml\">\\n\\t\\t\\t\\t\\t\\tUW Device 1\\n\\t\\t\\t\\t\\t</div>'}, 'identifier': [{'system': 'www.uwearme.com/dev', 'value': 'id'}], 'expirationDate': '2020-10-10', 'lotNumber': '22222', 'modelNumber': 'u888800-1', 'type': {'coding': [{'system': ' http://snomed.info/sct', 'code': '33894003', 'display': 'Experimental Device'}]}, 'patient': {'reference': 'Patient/1'}, 'owner': {'reference': 'Organization/851'}}, 'search': {'mode': 'match'}}, {'fullUrl': 'http://fhirserver.hl7fundamentals.org/fhir/Device/2881', 'resource': {'resourceType': 'Device', 'id': '2881', 'meta': {'versionId': '1', 'lastUpdated': '2023-11-01T02:02:36.331+00:00', 'source': '#w8g93FLYkyFAvxvb'}, 'text': {'status': 'generated', 'div': '<div xmlns=\"http://www.w3.org/1999/xhtml\">\\n\\t\\t\\t\\t\\t\\tUW Device 1\\n\\t\\t\\t\\t\\t</div>'}, 'identifier': [{'system': 'www.uwearme.com/dev', 'value': 'id'}], 'expirationDate': '2020-10-10', 'lotNumber': '22222', 'modelNumber': 'u888800-1', 'type': {'coding': [{'system': ' http://snomed.info/sct', 'code': '33894003', 'display': 'Experimental Device'}]}, 'patient': {'reference': 'Patient/1'}, 'owner': {'reference': 'Organization/851'}}, 'search': {'mode': 'match'}}, {'fullUrl': 'http://fhirserver.hl7fundamentals.org/fhir/Device/2886', 'resource': {'resourceType': 'Device', 'id': '2886', 'meta': {'versionId': '1', 'lastUpdated': '2023-11-01T02:02:36.465+00:00', 'source': '#OQF28qChvxZdmqbs'}, 'text': {'status': 'generated', 'div': '<div xmlns=\"http://www.w3.org/1999/xhtml\">\\n\\t\\t\\t\\t\\t\\tUW Device 1\\n\\t\\t\\t\\t\\t</div>'}, 'identifier': [{'system': 'www.uwearme.com/dev', 'value': 'id'}], 'expirationDate': '2020-10-10', 'lotNumber': '22222', 'modelNumber': 'u888800-1', 'type': {'coding': [{'system': ' http://snomed.info/sct', 'code': '33894003', 'display': 'Experimental Device'}]}, 'patient': {'reference': 'Patient/1'}, 'owner': {'reference': 'Organization/851'}}, 'search': {'mode': 'match'}}, {'fullUrl': 'http://fhirserver.hl7fundamentals.org/fhir/Device/2891', 'resource': {'resourceType': 'Device', 'id': '2891', 'meta': {'versionId': '1', 'lastUpdated': '2023-11-01T02:03:38.974+00:00', 'source': '#ggOWvcS6hqAcNHSN'}, 'text': {'status': 'generated', 'div': '<div xmlns=\"http://www.w3.org/1999/xhtml\">\\n\\t\\t\\t\\t\\t\\tUW Device 1\\n\\t\\t\\t\\t\\t</div>'}, 'identifier': [{'system': 'www.uwearme.com/dev', 'value': 'id'}], 'expirationDate': '2020-10-10', 'lotNumber': '22222', 'modelNumber': 'u888800-1', 'type': {'coding': [{'system': ' http://snomed.info/sct', 'code': '33894003', 'display': 'Experimental Device'}]}, 'patient': {'reference': 'Patient/1'}, 'owner': {'reference': 'Organization/851'}}, 'search': {'mode': 'match'}}, {'fullUrl': 'http://fhirserver.hl7fundamentals.org/fhir/Device/2896', 'resource': {'resourceType': 'Device', 'id': '2896', 'meta': {'versionId': '1', 'lastUpdated': '2023-11-01T02:03:39.085+00:00', 'source': '#wwPRpxyUme4eNIRl'}, 'text': {'status': 'generated', 'div': '<div xmlns=\"http://www.w3.org/1999/xhtml\">\\n\\t\\t\\t\\t\\t\\tUW Device 1\\n\\t\\t\\t\\t\\t</div>'}, 'identifier': [{'system': 'www.uwearme.com/dev', 'value': 'id'}], 'expirationDate': '2020-10-10', 'lotNumber': '22222', 'modelNumber': 'u888800-1', 'type': {'coding': [{'system': ' http://snomed.info/sct', 'code': '33894003', 'display': 'Experimental Device'}]}, 'patient': {'reference': 'Patient/1'}, 'owner': {'reference': 'Organization/851'}}, 'search': {'mode': 'match'}}, {'fullUrl': 'http://fhirserver.hl7fundamentals.org/fhir/Observation/4022', 'resource': {'resourceType': 'Observation', 'id': '4022', 'meta': {'versionId': '1', 'lastUpdated': '2023-11-05T04:39:51.183+00:00', 'source': '#GrId3ozQS5fm3HCT'}, 'status': 'final', 'category': [{'coding': [{'system': 'http://terminology.hl7.org/CodeSystem/observation-category', 'code': 'vital-signs', 'display': 'Vital Signs'}], 'text': 'Vital Signs'}], 'code': {'coding': [{'system': 'http://loinc.org', 'code': '8867-4', 'display': 'Heart rate'}], 'text': 'Heart rate'}, 'subject': {'reference': 'Patient/1'}, 'effectiveDateTime': '1999-07-02', 'valueQuantity': {'value': 44, 'unit': 'beats/minute', 'system': 'http://unitsofmeasure.org', 'code': '/min'}}, 'search': {'mode': 'match'}}, {'fullUrl': 'http://fhirserver.hl7fundamentals.org/fhir/Observation/4023', 'resource': {'resourceType': 'Observation', 'id': '4023', 'meta': {'versionId': '1', 'lastUpdated': '2023-11-05T04:43:02.143+00:00', 'source': '#es63FeMHAJwAx2iJ'}, 'status': 'final', 'category': [{'coding': [{'system': 'http://terminology.hl7.org/CodeSystem/observation-category', 'code': 'vital-signs', 'display': 'Vital Signs'}], 'text': 'Vital Signs'}], 'code': {'coding': [{'system': 'http://loinc.org', 'code': '8867-4', 'display': 'Heart rate'}], 'text': 'Heart rate'}, 'subject': {'reference': 'Patient/1'}, 'effectiveDateTime': '1999-07-02', 'valueQuantity': {'value': 44, 'unit': 'beats/minute', 'system': 'http://unitsofmeasure.org', 'code': '/min'}}, 'search': {'mode': 'match'}}, {'fullUrl': 'http://fhirserver.hl7fundamentals.org/fhir/Observation/4024', 'resource': {'resourceType': 'Observation', 'id': '4024', 'meta': {'versionId': '1', 'lastUpdated': '2023-11-05T04:43:32.302+00:00', 'source': '#XrIPgt4VEpJmbtfa'}, 'status': 'final', 'category': [{'coding': [{'system': 'http://terminology.hl7.org/CodeSystem/observation-category', 'code': 'vital-signs', 'display': 'Vital Signs'}], 'text': 'Vital Signs'}], 'code': {'coding': [{'system': 'http://loinc.org', 'code': '8867-4', 'display': 'Heart rate'}], 'text': 'Heart rate'}, 'subject': {'reference': 'Patient/1'}, 'effectiveDateTime': '1999-07-02', 'valueQuantity': {'value': 44, 'unit': 'beats/minute', 'system': 'http://unitsofmeasure.org', 'code': '/min'}}, 'search': {'mode': 'match'}}]}\n"
     ]
    }
   ],
   "execution_count": 48
  },
  {
   "cell_type": "markdown",
   "source": [
    "## Conditional Operations\n",
    "\n",
    "### Background and Motivation\n",
    "\n",
    "Conditional operations in FHIR, such as conditional create and update, are essential for ensuring that resources are created or updated only when certain conditions are met. This is particularly useful for avoiding duplicate records and maintaining data integrity.\n",
    "\n",
    "### Objective\n",
    "\n",
    "The goal of this assignment is to create a patient resource if it doesn't already exist, by searching for a patient with a specific identifier.\n",
    "\n",
    "### Instructions\n",
    "\n",
    "1. **Create the Skeleton Class:**\n",
    "   - Define a class named `ConditionalCreatePatient`.\n",
    "   - Initialize the class with the base URL of the FHIR server and set the FHIR client settings.\n",
    "\n",
    "2. **Create a New Patient Resource:**\n",
    "   - Implement a method to create a new patient resource with the given details.\n",
    "\n",
    "3. **Perform the Conditional Create Operation:**\n",
    "   - Implement a method to perform the conditional create operation using the FHIR client.\n",
    "\n",
    "4. **Process the Server's Response:**\n",
    "   - Implement a method to hand"
   ],
   "metadata": {
    "collapsed": false
   },
   "id": "5dbd0bbdc9ba6ef"
  },
  {
   "cell_type": "code",
   "execution_count": null,
   "outputs": [],
   "source": [
    "class ConditionalCreatePatient:\n",
    "    \n",
    "    def __init__(self):\n",
    "        settings = {\n",
    "            'app_id': '',\n",
    "            'api_base': 'http://fhirserver.hl7fundamentals.org/fhir'\n",
    "        }\n",
    "        self.client = client.FHIRClient(settings=settings)\n",
    "    \n",
    "    def create_patient_conditionally(self):\n",
    "        #Step 1: Create the instance and populate it\n",
    "        new_patient = Patient()\n",
    "        new_patient.active = True\n",
    "        new_patient.name = [humanname.HumanName({\n",
    "            'family': 'Payton',\n",
    "            'given': ['Walter']\n",
    "        })]\n",
    "        new_patient_identifier = identifier.Identifier({\n",
    "            \n",
    "        })"
   ],
   "metadata": {
    "collapsed": false
   },
   "id": "eb7e7574d2ca853c"
  }
 ],
 "metadata": {
  "kernelspec": {
   "display_name": "Python 3",
   "language": "python",
   "name": "python3"
  },
  "language_info": {
   "codemirror_mode": {
    "name": "ipython",
    "version": 2
   },
   "file_extension": ".py",
   "mimetype": "text/x-python",
   "name": "python",
   "nbconvert_exporter": "python",
   "pygments_lexer": "ipython2",
   "version": "2.7.6"
  }
 },
 "nbformat": 4,
 "nbformat_minor": 5
}
